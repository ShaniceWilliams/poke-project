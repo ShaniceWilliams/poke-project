{
 "cells": [
  {
   "cell_type": "markdown",
   "source": [
    "# Poke-Project\n",
    "\n",
    "Pokemon EDA and visualisations."
   ],
   "metadata": {
    "collapsed": false
   }
  },
  {
   "cell_type": "code",
   "execution_count": 2,
   "metadata": {
    "collapsed": true
   },
   "outputs": [],
   "source": [
    "#imports\n",
    "import pandas as pd\n",
    "import matplotlib.pyplot as plt\n",
    "import seaborn as sns"
   ]
  },
  {
   "cell_type": "code",
   "execution_count": 6,
   "outputs": [
    {
     "data": {
      "text/plain": "   poke_id                   Name poke_type_1 poke_type_2  Total  HP  Attack  \\\n0        1              Bulbasaur       Grass      Poison    318  45      49   \n1        2                Ivysaur       Grass      Poison    405  60      62   \n2        3               Venusaur       Grass      Poison    525  80      82   \n3        3  VenusaurMega Venusaur       Grass      Poison    625  80     100   \n4        4             Charmander        Fire         NaN    309  39      52   \n\n   Defense  Sp_Atk  Sp_Def  Speed  Generation  Legendary  \n0       49      65      65     45           1      False  \n1       63      80      80     60           1      False  \n2       83     100     100     80           1      False  \n3      123     122     120     80           1      False  \n4       43      60      50     65           1      False  ",
      "text/html": "<div>\n<style scoped>\n    .dataframe tbody tr th:only-of-type {\n        vertical-align: middle;\n    }\n\n    .dataframe tbody tr th {\n        vertical-align: top;\n    }\n\n    .dataframe thead th {\n        text-align: right;\n    }\n</style>\n<table border=\"1\" class=\"dataframe\">\n  <thead>\n    <tr style=\"text-align: right;\">\n      <th></th>\n      <th>poke_id</th>\n      <th>Name</th>\n      <th>poke_type_1</th>\n      <th>poke_type_2</th>\n      <th>Total</th>\n      <th>HP</th>\n      <th>Attack</th>\n      <th>Defense</th>\n      <th>Sp_Atk</th>\n      <th>Sp_Def</th>\n      <th>Speed</th>\n      <th>Generation</th>\n      <th>Legendary</th>\n    </tr>\n  </thead>\n  <tbody>\n    <tr>\n      <th>0</th>\n      <td>1</td>\n      <td>Bulbasaur</td>\n      <td>Grass</td>\n      <td>Poison</td>\n      <td>318</td>\n      <td>45</td>\n      <td>49</td>\n      <td>49</td>\n      <td>65</td>\n      <td>65</td>\n      <td>45</td>\n      <td>1</td>\n      <td>False</td>\n    </tr>\n    <tr>\n      <th>1</th>\n      <td>2</td>\n      <td>Ivysaur</td>\n      <td>Grass</td>\n      <td>Poison</td>\n      <td>405</td>\n      <td>60</td>\n      <td>62</td>\n      <td>63</td>\n      <td>80</td>\n      <td>80</td>\n      <td>60</td>\n      <td>1</td>\n      <td>False</td>\n    </tr>\n    <tr>\n      <th>2</th>\n      <td>3</td>\n      <td>Venusaur</td>\n      <td>Grass</td>\n      <td>Poison</td>\n      <td>525</td>\n      <td>80</td>\n      <td>82</td>\n      <td>83</td>\n      <td>100</td>\n      <td>100</td>\n      <td>80</td>\n      <td>1</td>\n      <td>False</td>\n    </tr>\n    <tr>\n      <th>3</th>\n      <td>3</td>\n      <td>VenusaurMega Venusaur</td>\n      <td>Grass</td>\n      <td>Poison</td>\n      <td>625</td>\n      <td>80</td>\n      <td>100</td>\n      <td>123</td>\n      <td>122</td>\n      <td>120</td>\n      <td>80</td>\n      <td>1</td>\n      <td>False</td>\n    </tr>\n    <tr>\n      <th>4</th>\n      <td>4</td>\n      <td>Charmander</td>\n      <td>Fire</td>\n      <td>NaN</td>\n      <td>309</td>\n      <td>39</td>\n      <td>52</td>\n      <td>43</td>\n      <td>60</td>\n      <td>50</td>\n      <td>65</td>\n      <td>1</td>\n      <td>False</td>\n    </tr>\n  </tbody>\n</table>\n</div>"
     },
     "execution_count": 6,
     "metadata": {},
     "output_type": "execute_result"
    }
   ],
   "source": [
    "df = pd.read_csv(\"C:\\\\Users\\\\shani\\\\PycharmProjects\\\\poke-project\\\\Pokemon.csv\")\n",
    "df.head()"
   ],
   "metadata": {
    "collapsed": false
   }
  },
  {
   "cell_type": "code",
   "execution_count": 14,
   "outputs": [
    {
     "name": "stdout",
     "output_type": "stream",
     "text": [
      "Number of Rows: 800\n",
      "Number of columns: 13\n"
     ]
    }
   ],
   "source": [
    "shape = df.shape\n",
    "print(f\"Number of Rows: {shape[0]}\\nNumber of columns: {shape[1]}\")"
   ],
   "metadata": {
    "collapsed": false
   }
  },
  {
   "cell_type": "code",
   "execution_count": 12,
   "outputs": [
    {
     "data": {
      "text/plain": "          poke_id      Total          HP      Attack     Defense      Sp_Atk  \\\ncount  800.000000  800.00000  800.000000  800.000000  800.000000  800.000000   \nmean   362.813750  435.10250   69.258750   79.001250   73.842500   72.820000   \nstd    208.343798  119.96304   25.534669   32.457366   31.183501   32.722294   \nmin      1.000000  180.00000    1.000000    5.000000    5.000000   10.000000   \n25%    184.750000  330.00000   50.000000   55.000000   50.000000   49.750000   \n50%    364.500000  450.00000   65.000000   75.000000   70.000000   65.000000   \n75%    539.250000  515.00000   80.000000  100.000000   90.000000   95.000000   \nmax    721.000000  780.00000  255.000000  190.000000  230.000000  194.000000   \n\n           Sp_Def       Speed  Generation  \ncount  800.000000  800.000000   800.00000  \nmean    71.902500   68.277500     3.32375  \nstd     27.828916   29.060474     1.66129  \nmin     20.000000    5.000000     1.00000  \n25%     50.000000   45.000000     2.00000  \n50%     70.000000   65.000000     3.00000  \n75%     90.000000   90.000000     5.00000  \nmax    230.000000  180.000000     6.00000  ",
      "text/html": "<div>\n<style scoped>\n    .dataframe tbody tr th:only-of-type {\n        vertical-align: middle;\n    }\n\n    .dataframe tbody tr th {\n        vertical-align: top;\n    }\n\n    .dataframe thead th {\n        text-align: right;\n    }\n</style>\n<table border=\"1\" class=\"dataframe\">\n  <thead>\n    <tr style=\"text-align: right;\">\n      <th></th>\n      <th>poke_id</th>\n      <th>Total</th>\n      <th>HP</th>\n      <th>Attack</th>\n      <th>Defense</th>\n      <th>Sp_Atk</th>\n      <th>Sp_Def</th>\n      <th>Speed</th>\n      <th>Generation</th>\n    </tr>\n  </thead>\n  <tbody>\n    <tr>\n      <th>count</th>\n      <td>800.000000</td>\n      <td>800.00000</td>\n      <td>800.000000</td>\n      <td>800.000000</td>\n      <td>800.000000</td>\n      <td>800.000000</td>\n      <td>800.000000</td>\n      <td>800.000000</td>\n      <td>800.00000</td>\n    </tr>\n    <tr>\n      <th>mean</th>\n      <td>362.813750</td>\n      <td>435.10250</td>\n      <td>69.258750</td>\n      <td>79.001250</td>\n      <td>73.842500</td>\n      <td>72.820000</td>\n      <td>71.902500</td>\n      <td>68.277500</td>\n      <td>3.32375</td>\n    </tr>\n    <tr>\n      <th>std</th>\n      <td>208.343798</td>\n      <td>119.96304</td>\n      <td>25.534669</td>\n      <td>32.457366</td>\n      <td>31.183501</td>\n      <td>32.722294</td>\n      <td>27.828916</td>\n      <td>29.060474</td>\n      <td>1.66129</td>\n    </tr>\n    <tr>\n      <th>min</th>\n      <td>1.000000</td>\n      <td>180.00000</td>\n      <td>1.000000</td>\n      <td>5.000000</td>\n      <td>5.000000</td>\n      <td>10.000000</td>\n      <td>20.000000</td>\n      <td>5.000000</td>\n      <td>1.00000</td>\n    </tr>\n    <tr>\n      <th>25%</th>\n      <td>184.750000</td>\n      <td>330.00000</td>\n      <td>50.000000</td>\n      <td>55.000000</td>\n      <td>50.000000</td>\n      <td>49.750000</td>\n      <td>50.000000</td>\n      <td>45.000000</td>\n      <td>2.00000</td>\n    </tr>\n    <tr>\n      <th>50%</th>\n      <td>364.500000</td>\n      <td>450.00000</td>\n      <td>65.000000</td>\n      <td>75.000000</td>\n      <td>70.000000</td>\n      <td>65.000000</td>\n      <td>70.000000</td>\n      <td>65.000000</td>\n      <td>3.00000</td>\n    </tr>\n    <tr>\n      <th>75%</th>\n      <td>539.250000</td>\n      <td>515.00000</td>\n      <td>80.000000</td>\n      <td>100.000000</td>\n      <td>90.000000</td>\n      <td>95.000000</td>\n      <td>90.000000</td>\n      <td>90.000000</td>\n      <td>5.00000</td>\n    </tr>\n    <tr>\n      <th>max</th>\n      <td>721.000000</td>\n      <td>780.00000</td>\n      <td>255.000000</td>\n      <td>190.000000</td>\n      <td>230.000000</td>\n      <td>194.000000</td>\n      <td>230.000000</td>\n      <td>180.000000</td>\n      <td>6.00000</td>\n    </tr>\n  </tbody>\n</table>\n</div>"
     },
     "execution_count": 12,
     "metadata": {},
     "output_type": "execute_result"
    }
   ],
   "source": [
    "df.describe()"
   ],
   "metadata": {
    "collapsed": false
   }
  },
  {
   "cell_type": "markdown",
   "source": [
    "From the df.describe we can see that there seems to be no missing numerical data in the table. Between all of the attributes of the pokemon (attack defense etc) we can see that they have similar distributions. Though for comparisons to be made between them we may need to make some normalisations. THe highest mean is attack, but this also has the second highest std meaning that is one of the more varied attributes, closely following special attack."
   ],
   "metadata": {
    "collapsed": false
   }
  },
  {
   "cell_type": "code",
   "execution_count": 15,
   "outputs": [
    {
     "name": "stdout",
     "output_type": "stream",
     "text": [
      "<class 'pandas.core.frame.DataFrame'>\n",
      "RangeIndex: 800 entries, 0 to 799\n",
      "Data columns (total 13 columns):\n",
      " #   Column       Non-Null Count  Dtype \n",
      "---  ------       --------------  ----- \n",
      " 0   poke_id      800 non-null    int64 \n",
      " 1   Name         800 non-null    object\n",
      " 2   poke_type_1  800 non-null    object\n",
      " 3   poke_type_2  414 non-null    object\n",
      " 4   Total        800 non-null    int64 \n",
      " 5   HP           800 non-null    int64 \n",
      " 6   Attack       800 non-null    int64 \n",
      " 7   Defense      800 non-null    int64 \n",
      " 8   Sp_Atk       800 non-null    int64 \n",
      " 9   Sp_Def       800 non-null    int64 \n",
      " 10  Speed        800 non-null    int64 \n",
      " 11  Generation   800 non-null    int64 \n",
      " 12  Legendary    800 non-null    bool  \n",
      "dtypes: bool(1), int64(9), object(3)\n",
      "memory usage: 75.9+ KB\n"
     ]
    }
   ],
   "source": [
    "df.info()"
   ],
   "metadata": {
    "collapsed": false
   }
  },
  {
   "cell_type": "markdown",
   "source": [
    "All datatypes are as expected, no updates required."
   ],
   "metadata": {
    "collapsed": false
   }
  },
  {
   "cell_type": "code",
   "execution_count": null,
   "outputs": [],
   "source": [],
   "metadata": {
    "collapsed": false
   }
  }
 ],
 "metadata": {
  "kernelspec": {
   "display_name": "Python 3",
   "language": "python",
   "name": "python3"
  },
  "language_info": {
   "codemirror_mode": {
    "name": "ipython",
    "version": 2
   },
   "file_extension": ".py",
   "mimetype": "text/x-python",
   "name": "python",
   "nbconvert_exporter": "python",
   "pygments_lexer": "ipython2",
   "version": "2.7.6"
  }
 },
 "nbformat": 4,
 "nbformat_minor": 0
}
